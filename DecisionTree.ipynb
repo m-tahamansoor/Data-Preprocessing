{
  "nbformat": 4,
  "nbformat_minor": 0,
  "metadata": {
    "colab": {
      "provenance": []
    },
    "kernelspec": {
      "name": "python3",
      "display_name": "Python 3"
    },
    "language_info": {
      "name": "python"
    }
  },
  "cells": [
    {
      "cell_type": "markdown",
      "source": [
        "libraries"
      ],
      "metadata": {
        "id": "y-I4MdCDDbRf"
      }
    },
    {
      "cell_type": "code",
      "source": [
        "import numpy as np\n",
        "import pandas as pd\n",
        "from math import log2"
      ],
      "metadata": {
        "id": "DPrX0lS9DdUf"
      },
      "execution_count": 2,
      "outputs": []
    },
    {
      "cell_type": "markdown",
      "source": [
        "data"
      ],
      "metadata": {
        "id": "Tlf20DG4DgSh"
      }
    },
    {
      "cell_type": "code",
      "source": [
        "data = {\n",
        "    'Outlook': ['Sunny', 'Sunny', 'Overcast', 'Rainy', 'Rainy', 'Overcast'],\n",
        "    'Temperature': ['Hot', 'Hot', 'Hot', 'Mild', 'Cool', 'Mild'],\n",
        "    'Play Bedminton': ['No', 'No', 'Yes', 'Yes', 'No', 'Yes']\n",
        "}\n",
        "\n",
        "df = pd.DataFrame(data)"
      ],
      "metadata": {
        "id": "ovPRZk2YDj1r"
      },
      "execution_count": 8,
      "outputs": []
    },
    {
      "cell_type": "markdown",
      "source": [
        "entropy calculation"
      ],
      "metadata": {
        "id": "CFVUe-wwDkyu"
      }
    },
    {
      "cell_type": "code",
      "source": [
        "def calculate_entropy(data):\n",
        "    values = data.value_counts(normalize=True)\n",
        "    entropy = -sum(values * np.log2(values))\n",
        "    return entropy\n",
        "\n",
        "entropy_dataset = calculate_entropy(df['Play Bedminton'])\n",
        "print(f\"Entropy of the entire dataset: {entropy_dataset:.4f}\")"
      ],
      "metadata": {
        "colab": {
          "base_uri": "https://localhost:8080/"
        },
        "id": "QCwZjG6yDr5B",
        "outputId": "16153545-8692-4430-ce9a-02717255e943"
      },
      "execution_count": 9,
      "outputs": [
        {
          "output_type": "stream",
          "name": "stdout",
          "text": [
            "Entropy of the entire dataset: 1.0000\n"
          ]
        }
      ]
    },
    {
      "cell_type": "markdown",
      "source": [
        "information gain calculation"
      ],
      "metadata": {
        "id": "JbQuo_D8DzFA"
      }
    },
    {
      "cell_type": "code",
      "source": [
        "def calculate_information_gain(df, feature):\n",
        "    total_entropy = calculate_entropy(df['Play Bedminton'])\n",
        "    feature_values = df[feature].value_counts()\n",
        "    weighted_entropy = 0\n",
        "\n",
        "    for value in feature_values.index:\n",
        "        subset = df[df[feature] == value]\n",
        "        subset_entropy = calculate_entropy(subset['Play Bedminton'])\n",
        "        weighted_entropy += (len(subset) / len(df)) * subset_entropy\n",
        "\n",
        "    information_gain = total_entropy - weighted_entropy\n",
        "    return information_gain\n",
        "\n",
        "info_gain_outlook = calculate_information_gain(df, 'Outlook')\n",
        "print(f\"Information Gain for 'Outlook': {info_gain_outlook:.4f}\")"
      ],
      "metadata": {
        "colab": {
          "base_uri": "https://localhost:8080/"
        },
        "id": "Jp1A8bNXD52N",
        "outputId": "58102c21-753b-4445-e8c8-02385497fc1d"
      },
      "execution_count": 10,
      "outputs": [
        {
          "output_type": "stream",
          "name": "stdout",
          "text": [
            "Information Gain for 'Outlook': 0.6667\n"
          ]
        }
      ]
    },
    {
      "cell_type": "markdown",
      "source": [
        "gini-index calculation"
      ],
      "metadata": {
        "id": "8vOZuwV5D9Q2"
      }
    },
    {
      "cell_type": "code",
      "source": [
        "def calculate_gini_index(df, feature):\n",
        "    total_size = len(df)\n",
        "    feature_values = df[feature].value_counts()\n",
        "    weighted_gini = 0\n",
        "\n",
        "    for value in feature_values.index:\n",
        "        subset = df[df[feature] == value]\n",
        "        total_in_subset = len(subset)\n",
        "        p_yes = len(subset[subset['Play Bedminton'] == 'Yes']) / total_in_subset\n",
        "        p_no = len(subset[subset['Play Bedminton'] == 'No']) / total_in_subset\n",
        "        gini = 1 - (p_yes**2 + p_no**2)\n",
        "        weighted_gini += (total_in_subset / total_size) * gini\n",
        "\n",
        "    return weighted_gini\n",
        "\n",
        "gini_outlook = calculate_gini_index(df, 'Outlook')\n",
        "print(f\"Gini Index for 'Outlook': {gini_outlook:.4f}\")"
      ],
      "metadata": {
        "colab": {
          "base_uri": "https://localhost:8080/"
        },
        "id": "hgogAMvGEAfI",
        "outputId": "23cc2b6d-900d-4257-9c7e-bd2d9fdfad00"
      },
      "execution_count": 11,
      "outputs": [
        {
          "output_type": "stream",
          "name": "stdout",
          "text": [
            "Gini Index for 'Outlook': 0.1667\n"
          ]
        }
      ]
    }
  ]
}