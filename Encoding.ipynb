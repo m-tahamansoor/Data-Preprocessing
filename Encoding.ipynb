{
  "nbformat": 4,
  "nbformat_minor": 0,
  "metadata": {
    "colab": {
      "provenance": []
    },
    "kernelspec": {
      "name": "python3",
      "display_name": "Python 3"
    },
    "language_info": {
      "name": "python"
    }
  },
  "cells": [
    {
      "cell_type": "markdown",
      "source": [
        "1. One Hot Encoding"
      ],
      "metadata": {
        "id": "84bxfOn_IgfQ"
      }
    },
    {
      "cell_type": "code",
      "execution_count": 3,
      "metadata": {
        "colab": {
          "base_uri": "https://localhost:8080/"
        },
        "id": "si5ao6c1ILuo",
        "outputId": "bf336d04-530b-4a1c-b012-d1ff20359d77"
      },
      "outputs": [
        {
          "output_type": "stream",
          "name": "stdout",
          "text": [
            "   Color_Blue  Color_Green  Color_Red\n",
            "0       False        False       True\n",
            "1       False         True      False\n",
            "2        True        False      False\n"
          ]
        }
      ],
      "source": [
        "import pandas as pd\n",
        "\n",
        "data = {'Color': ['Red', 'Green', 'Blue']}\n",
        "df = pd.DataFrame(data)\n",
        "\n",
        "df_onehot = pd.get_dummies(df, columns=['Color'], drop_first = 0)\n",
        "print(df_onehot)"
      ]
    },
    {
      "cell_type": "markdown",
      "source": [
        "2. Label Encoding"
      ],
      "metadata": {
        "id": "aTEUvcO1LCZp"
      }
    },
    {
      "cell_type": "code",
      "source": [
        "from sklearn.preprocessing import LabelEncoder\n",
        "import pandas as pd\n",
        "\n",
        "df = pd.DataFrame({'Size': ['Extra Large', 'Large', 'Medium', 'Small']})\n",
        "\n",
        "\n",
        "label_encoder = LabelEncoder()\n",
        "df['Size_Label'] = label_encoder.fit_transform(df['Size'])\n",
        "print(df)"
      ],
      "metadata": {
        "colab": {
          "base_uri": "https://localhost:8080/"
        },
        "id": "xyQEF5eVLFtK",
        "outputId": "b9a2cd79-24aa-4787-aa69-9207d69812cb"
      },
      "execution_count": 10,
      "outputs": [
        {
          "output_type": "stream",
          "name": "stdout",
          "text": [
            "          Size  Size_Label\n",
            "0  Extra Large           0\n",
            "1        Large           1\n",
            "2       Medium           2\n",
            "3        Small           3\n"
          ]
        }
      ]
    },
    {
      "cell_type": "markdown",
      "source": [
        "3. Frequency Encoding"
      ],
      "metadata": {
        "id": "ytDcGUeGOEl4"
      }
    },
    {
      "cell_type": "code",
      "source": [
        "import pandas as pd\n",
        "\n",
        "\n",
        "data = {'Alphabets': ['A', 'A', 'B', 'C', 'C', 'C']}\n",
        "df = pd.DataFrame(data)\n",
        "\n",
        "\n",
        "df['Alphabets_Count'] = df['Alphabets'].map(df['Alphabets'].value_counts())\n",
        "print(df[['Alphabets', 'Alphabets_Count']])"
      ],
      "metadata": {
        "colab": {
          "base_uri": "https://localhost:8080/"
        },
        "id": "lvkyLgNDOPFV",
        "outputId": "bc66a8d0-3678-4408-bfa1-634511292c2d"
      },
      "execution_count": 11,
      "outputs": [
        {
          "output_type": "stream",
          "name": "stdout",
          "text": [
            "  Alphabets  Alphabets_Count\n",
            "0         A                2\n",
            "1         A                2\n",
            "2         B                1\n",
            "3         C                3\n",
            "4         C                3\n",
            "5         C                3\n"
          ]
        }
      ]
    },
    {
      "cell_type": "markdown",
      "source": [
        "4. Target Encoding"
      ],
      "metadata": {
        "id": "oYimIavVa_1p"
      }
    },
    {
      "cell_type": "code",
      "source": [
        "import pandas as pd\n",
        "\n",
        "data = {'Paints': ['Red', 'Green', 'Blue', 'Green', 'Red', 'Red'], 'Price': [100, 150, 200, 150, 100, 120]}\n",
        "df = pd.DataFrame(data)\n",
        "\n",
        "\n",
        "mean_cost_per_paint = df.groupby('Paints')['Price'].mean()\n",
        "df['Target_Encoded'] = df['Paints'].map(mean_cost_per_paint)\n",
        "print(df)"
      ],
      "metadata": {
        "colab": {
          "base_uri": "https://localhost:8080/"
        },
        "id": "oMrOxmIIbCP8",
        "outputId": "dffd62a4-5b3a-47b5-fa5e-33c99f1a16aa"
      },
      "execution_count": 9,
      "outputs": [
        {
          "output_type": "stream",
          "name": "stdout",
          "text": [
            "  Paints  Price  Target_Encoded\n",
            "0    Red    100      106.666667\n",
            "1  Green    150      150.000000\n",
            "2   Blue    200      200.000000\n",
            "3  Green    150      150.000000\n",
            "4    Red    100      106.666667\n",
            "5    Red    120      106.666667\n"
          ]
        }
      ]
    }
  ]
}