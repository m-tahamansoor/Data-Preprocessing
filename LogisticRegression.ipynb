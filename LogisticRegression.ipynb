{
  "nbformat": 4,
  "nbformat_minor": 0,
  "metadata": {
    "colab": {
      "provenance": []
    },
    "kernelspec": {
      "name": "python3",
      "display_name": "Python 3"
    },
    "language_info": {
      "name": "python"
    }
  },
  "cells": [
    {
      "cell_type": "markdown",
      "source": [
        "libraries"
      ],
      "metadata": {
        "id": "J1ZwkP-F10Hr"
      }
    },
    {
      "cell_type": "code",
      "source": [
        "import numpy as np\n",
        "from math import exp, log\n",
        "from sklearn.metrics import confusion_matrix, accuracy_score, precision_score, recall_score, f1_score"
      ],
      "metadata": {
        "id": "s_w8IOiq15GK"
      },
      "execution_count": 3,
      "outputs": []
    },
    {
      "cell_type": "markdown",
      "source": [
        "data and model parameters"
      ],
      "metadata": {
        "id": "rMkwZ4nH18FE"
      }
    },
    {
      "cell_type": "code",
      "source": [
        "data = [\n",
        "    {\"age\": 22, \"income\": 30, \"bought\": 0},\n",
        "    {\"age\": 25, \"income\": 50, \"bought\": 0},\n",
        "    {\"age\": 47, \"income\": 60, \"bought\": 1},\n",
        "    {\"age\": 52, \"income\": 70, \"bought\": 1},\n",
        "    {\"age\": 46, \"income\": 55, \"bought\": 1},\n",
        "    {\"age\": 50, \"income\": 60, \"bought\": 0}\n",
        "]\n",
        "\n",
        "intercept = -6\n",
        "weight_age = 0.05\n",
        "weight_income = 0.1"
      ],
      "metadata": {
        "id": "LwZL7NKz2Ddy"
      },
      "execution_count": 4,
      "outputs": []
    },
    {
      "cell_type": "markdown",
      "source": [
        "sigmoid function"
      ],
      "metadata": {
        "id": "RWKKp7Kn2Hns"
      }
    },
    {
      "cell_type": "code",
      "source": [
        "def sigmoid(z):\n",
        "    return 1 / (1 + exp(-z))"
      ],
      "metadata": {
        "id": "wQfTEkwM2KG7"
      },
      "execution_count": 5,
      "outputs": []
    },
    {
      "cell_type": "markdown",
      "source": [
        "predictions"
      ],
      "metadata": {
        "id": "cY0QqJ6G2X6_"
      }
    },
    {
      "cell_type": "code",
      "source": [
        "predicted_probs = []\n",
        "actuals = []\n",
        "for record in data:\n",
        "    age = record[\"age\"]\n",
        "    income = record[\"income\"]\n",
        "    actual = record[\"bought\"]\n",
        "    z = intercept + (weight_age * age) + (weight_income * income)\n",
        "    p = sigmoid(z)\n",
        "    predicted_probs.append(p)\n",
        "    actuals.append(actual)\n",
        "    print(f\"Predicted Probability for Age={age}, Income={income}: {p:.2f}\")"
      ],
      "metadata": {
        "colab": {
          "base_uri": "https://localhost:8080/"
        },
        "id": "LHwUR_2I2aOl",
        "outputId": "271d9cb9-ed04-4ba9-f9ac-e8fd14c710f5"
      },
      "execution_count": 6,
      "outputs": [
        {
          "output_type": "stream",
          "name": "stdout",
          "text": [
            "Predicted Probability for Age=22, Income=30: 0.13\n",
            "Predicted Probability for Age=25, Income=50: 0.56\n",
            "Predicted Probability for Age=47, Income=60: 0.91\n",
            "Predicted Probability for Age=52, Income=70: 0.97\n",
            "Predicted Probability for Age=46, Income=55: 0.86\n",
            "Predicted Probability for Age=50, Income=60: 0.92\n"
          ]
        }
      ]
    },
    {
      "cell_type": "markdown",
      "source": [
        "threshold fixing"
      ],
      "metadata": {
        "id": "ggesSbfj2dqP"
      }
    },
    {
      "cell_type": "code",
      "source": [
        "predicted_classes = [1 if prob >= 0.5 else 0 for prob in predicted_probs]"
      ],
      "metadata": {
        "id": "IfIb9g1b2itF"
      },
      "execution_count": 7,
      "outputs": []
    },
    {
      "cell_type": "markdown",
      "source": [
        "cost function"
      ],
      "metadata": {
        "id": "0UnefyvM2mb3"
      }
    },
    {
      "cell_type": "code",
      "source": [
        "n = len(actuals)\n",
        "total_cost = sum(\n",
        "    -actual * log(pred) - (1 - actual) * log(1 - pred)\n",
        "    for actual, pred in zip(actuals, predicted_probs)\n",
        ") / n\n",
        "print(f\"\\nTotal Cost: {total_cost:.2f}\")"
      ],
      "metadata": {
        "colab": {
          "base_uri": "https://localhost:8080/"
        },
        "id": "yTvgluBQ2pE7",
        "outputId": "10cc3b57-9908-4bff-94f4-27dbcd737cab"
      },
      "execution_count": 8,
      "outputs": [
        {
          "output_type": "stream",
          "name": "stdout",
          "text": [
            "\n",
            "Total Cost: 0.64\n"
          ]
        }
      ]
    },
    {
      "cell_type": "markdown",
      "source": [
        "matrix"
      ],
      "metadata": {
        "id": "zD4LFfEz2t-F"
      }
    },
    {
      "cell_type": "code",
      "source": [
        "conf_matrix = confusion_matrix(actuals, predicted_classes)\n",
        "accuracy = accuracy_score(actuals, predicted_classes)\n",
        "precision = precision_score(actuals, predicted_classes)\n",
        "recall = recall_score(actuals, predicted_classes)\n",
        "f1 = f1_score(actuals, predicted_classes)"
      ],
      "metadata": {
        "id": "WzdhWDzG2xRR"
      },
      "execution_count": 9,
      "outputs": []
    },
    {
      "cell_type": "markdown",
      "source": [
        "output"
      ],
      "metadata": {
        "id": "dyAxq_Mh21IT"
      }
    },
    {
      "cell_type": "code",
      "source": [
        "print(\"\\nConfusion Matrix:\")\n",
        "print(conf_matrix)\n",
        "print(f\"\\nAccuracy: {accuracy * 100:.2f}%\")\n",
        "print(f\"Precision: {precision * 100:.2f}%\")\n",
        "print(f\"Recall: {recall * 100:.2f}%\")\n",
        "print(f\"F1 Score: {f1 * 100:.2f}%\")\n"
      ],
      "metadata": {
        "colab": {
          "base_uri": "https://localhost:8080/"
        },
        "id": "WBe1yFwv22ku",
        "outputId": "6e190c44-ea3b-47d8-c03a-50c9393cfa57"
      },
      "execution_count": 10,
      "outputs": [
        {
          "output_type": "stream",
          "name": "stdout",
          "text": [
            "\n",
            "Confusion Matrix:\n",
            "[[1 2]\n",
            " [0 3]]\n",
            "\n",
            "Accuracy: 66.67%\n",
            "Precision: 60.00%\n",
            "Recall: 100.00%\n",
            "F1 Score: 75.00%\n"
          ]
        }
      ]
    }
  ]
}